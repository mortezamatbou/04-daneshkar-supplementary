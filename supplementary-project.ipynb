{
 "cells": [
  {
   "cell_type": "markdown",
   "metadata": {},
   "source": [
    "# Project Overview\n",
    "\n",
    "## Part 1\n",
    "\n",
    "Imagine you are part of a team developing a new scientific computing library. Before integrating Numpy, your team wants to ensure that you understand how fundamental operations can be performed manually. This understanding will help in optimizing and troubleshooting when integrating more complex operations in the future. You will implement 20 essential Numpy functions from scratch and then compare their outputs with the results obtained from Numpy's built-in functions.\n",
    "\n",
    "\n",
    "### Instructions\n",
    "For each Numpy function, you will:\n",
    "\n",
    "- Implement the function using basic Python constructs.\n",
    "- Implement the function using Numpy.\n",
    "- Compare the outputs of both implementations to ensure they match.\n",
    "\n",
    "\n",
    "List of Numpy Functions\n",
    "- np.add\n",
    "- np.subtract\n",
    "- np.multiply\n",
    "- np.divide\n",
    "- np.power\n",
    "- np.mod\n",
    "- np.sqrt\n",
    "- np.sum\n",
    "- np.mean\n",
    "- np.median\n",
    "- np.std\n",
    "- np.var\n",
    "- np.min\n",
    "- np.max\n",
    "- np.argmin\n",
    "- np.argmax\n",
    "- np.dot\n",
    "- np.cross\n",
    "- np.sort\n",
    "- np.concatenate"
   ]
  },
  {
   "cell_type": "code",
   "execution_count": 1,
   "metadata": {},
   "outputs": [],
   "source": [
    "import numpy as np"
   ]
  },
  {
   "cell_type": "code",
   "execution_count": 2,
   "metadata": {},
   "outputs": [
    {
     "name": "stdout",
     "output_type": "stream",
     "text": [
      "Manual Addition Result: [5, 7, 9]\n",
      "Numpy Addition Result: [5 7 9]\n"
     ]
    }
   ],
   "source": [
    "def manual_addition(list1, list2):\n",
    "    result = []\n",
    "\n",
    "    if len(list1) != len(list2):\n",
    "        return result\n",
    "\n",
    "    for i, n1 in enumerate(list1):\n",
    "        result.append(list1[i] + list2[i])\n",
    "\n",
    "    return result\n",
    "\n",
    "def numpy_addition(array1, array2):\n",
    "    return np.add(array1, array2)\n",
    "\n",
    "list1 = [1, 2, 3]\n",
    "list2 = [4, 5, 6]\n",
    "array1 = np.array(list1)\n",
    "array2 = np.array(list2)\n",
    "\n",
    "manual_result = manual_addition(list1, list2)\n",
    "numpy_result = numpy_addition(array1, array2)\n",
    "\n",
    "print(f\"Manual Addition Result: {manual_result}\")\n",
    "print(f\"Numpy Addition Result: {numpy_result}\")"
   ]
  },
  {
   "cell_type": "code",
   "execution_count": 3,
   "metadata": {},
   "outputs": [
    {
     "name": "stdout",
     "output_type": "stream",
     "text": [
      "Manual Subtraction Result: [-3, -3, -3]\n",
      "Numpy Subtraction Result: [-3 -3 -3]\n"
     ]
    }
   ],
   "source": [
    "def manual_subtraction(list1, list2):\n",
    "    result = []\n",
    "\n",
    "    if len(list1) != len(list2):\n",
    "        return result\n",
    "\n",
    "    for i, n1 in enumerate(list1):\n",
    "        result.append(list1[i] - list2[i])\n",
    "    \n",
    "    return result\n",
    "\n",
    "def numpy_subtraction(array1, array2):\n",
    "    return np.subtract(array1, array2)\n",
    "\n",
    "manual_result = manual_subtraction(list1, list2)\n",
    "numpy_result = numpy_subtraction(array1, array2)\n",
    "\n",
    "print(f\"Manual Subtraction Result: {manual_result}\")\n",
    "print(f\"Numpy Subtraction Result: {numpy_result}\")"
   ]
  },
  {
   "cell_type": "code",
   "execution_count": 4,
   "metadata": {},
   "outputs": [
    {
     "name": "stdout",
     "output_type": "stream",
     "text": [
      "Manual Multiplication Result: [4, 10, 18]\n",
      "Numpy Multiplication Result: [ 4 10 18]\n"
     ]
    }
   ],
   "source": [
    "def manual_multiplication(list1, list2):\n",
    "    result = []\n",
    "\n",
    "    if len(list1) != len(list2):\n",
    "        return result\n",
    "\n",
    "    for i, n1 in enumerate(list1):\n",
    "        result.append(list1[i] * list2[i])\n",
    "\n",
    "    return result\n",
    "\n",
    "def numpy_multiplication(array1, array2):\n",
    "    return np.multiply(array1, array2)\n",
    "\n",
    "manual_result = manual_multiplication(list1, list2)\n",
    "numpy_result = numpy_multiplication(array1, array2)\n",
    "\n",
    "print(f\"Manual Multiplication Result: {manual_result}\")\n",
    "print(f\"Numpy Multiplication Result: {numpy_result}\")"
   ]
  },
  {
   "cell_type": "code",
   "execution_count": 5,
   "metadata": {},
   "outputs": [
    {
     "name": "stdout",
     "output_type": "stream",
     "text": [
      "Manual Division Result: [0.25, 0.4, 0.5]\n",
      "Numpy Division Result: [0.25 0.4  0.5 ]\n"
     ]
    }
   ],
   "source": [
    "def manual_division(list1, list2):\n",
    "    result = []\n",
    "    if len(list1) != len(list2):\n",
    "        return result\n",
    "\n",
    "    for i, n1 in enumerate(list1):\n",
    "        result.append(list1[i] / list2[i])\n",
    "\n",
    "    return result\n",
    "\n",
    "def numpy_division(array1, array2):\n",
    "    return np.divide(array1, array2)\n",
    "\n",
    "manual_result = manual_division(list1, list2)\n",
    "numpy_result = numpy_division(array1, array2)\n",
    "\n",
    "print(f\"Manual Division Result: {manual_result}\")\n",
    "print(f\"Numpy Division Result: {numpy_result}\")"
   ]
  },
  {
   "cell_type": "code",
   "execution_count": 6,
   "metadata": {},
   "outputs": [
    {
     "name": "stdout",
     "output_type": "stream",
     "text": [
      "Manual Power Result: [1, 32, 729]\n",
      "Numpy Power Result: [  1  32 729]\n"
     ]
    }
   ],
   "source": [
    "def manual_power(list1, list2):\n",
    "    result = []\n",
    "    \n",
    "    if len(list1) != len(list2):\n",
    "        return result\n",
    "\n",
    "    for i, n1 in enumerate(list1):\n",
    "        result.append(list1[i] ** list2[i])\n",
    "    \n",
    "    return result\n",
    "\n",
    "def numpy_power(array1, array2):\n",
    "    return np.power(array1, array2)\n",
    "\n",
    "manual_result = manual_power(list1, list2)\n",
    "numpy_result = numpy_power(array1, array2)\n",
    "\n",
    "print(f\"Manual Power Result: {manual_result}\")\n",
    "print(f\"Numpy Power Result: {numpy_result}\")"
   ]
  },
  {
   "cell_type": "code",
   "execution_count": 7,
   "metadata": {},
   "outputs": [
    {
     "name": "stdout",
     "output_type": "stream",
     "text": [
      "Manual Modulo Result: [1, 2, 3]\n",
      "Numpy Modulo Result: [1 2 3]\n"
     ]
    }
   ],
   "source": [
    "def manual_modulo(list1, list2):\n",
    "    result = []\n",
    "\n",
    "    if len(list1) != len(list2):\n",
    "        return result\n",
    "\n",
    "    for i, n1 in enumerate(list1):\n",
    "        result.append(list1[i] % list2[i])\n",
    "\n",
    "    return result\n",
    "\n",
    "def numpy_modulo(array1, array2):\n",
    "    return np.mod(array1, array2)\n",
    "\n",
    "manual_result = manual_modulo(list1, list2)\n",
    "numpy_result = numpy_modulo(array1, array2)\n",
    "\n",
    "print(f\"Manual Modulo Result: {manual_result}\")\n",
    "print(f\"Numpy Modulo Result: {numpy_result}\")"
   ]
  },
  {
   "cell_type": "code",
   "execution_count": 8,
   "metadata": {},
   "outputs": [
    {
     "name": "stdout",
     "output_type": "stream",
     "text": [
      "Manual Square Root Result: [1.0, 1.4142135623730951, 1.7320508075688772]\n",
      "Numpy Square Root Result: [1.         1.41421356 1.73205081]\n"
     ]
    }
   ],
   "source": [
    "import math\n",
    "\n",
    "def manual_sqrt(list1):\n",
    "    result = []\n",
    "\n",
    "    for n1 in list1:\n",
    "        result.append(math.sqrt(n1))\n",
    "\n",
    "    return result\n",
    "\n",
    "def numpy_sqrt(array1):\n",
    "    return np.sqrt(array1)\n",
    "\n",
    "manual_result = manual_sqrt(list1)\n",
    "numpy_result = numpy_sqrt(array1)\n",
    "\n",
    "print(f\"Manual Square Root Result: {manual_result}\")\n",
    "print(f\"Numpy Square Root Result: {numpy_result}\")"
   ]
  },
  {
   "cell_type": "code",
   "execution_count": 9,
   "metadata": {},
   "outputs": [
    {
     "name": "stdout",
     "output_type": "stream",
     "text": [
      "Manual Sum Result: 6\n",
      "Numpy Sum Result: 6\n"
     ]
    }
   ],
   "source": [
    "def manual_sum(list1):\n",
    "    total = 0\n",
    "    \n",
    "    for n1 in list1:\n",
    "        total += n1\n",
    "\n",
    "    return total\n",
    "\n",
    "def numpy_sum(array1):\n",
    "    return np.sum(array1)\n",
    "\n",
    "manual_result = manual_sum(list1)\n",
    "numpy_result = numpy_sum(array1)\n",
    "\n",
    "print(f\"Manual Sum Result: {manual_result}\")\n",
    "print(f\"Numpy Sum Result: {numpy_result}\")"
   ]
  },
  {
   "cell_type": "code",
   "execution_count": 10,
   "metadata": {},
   "outputs": [
    {
     "name": "stdout",
     "output_type": "stream",
     "text": [
      "Manual Mean Result: 2.0\n",
      "Numpy Mean Result: 2.0\n"
     ]
    }
   ],
   "source": [
    "def manual_mean(list1):\n",
    "    total = 0\n",
    "\n",
    "    for i in list1:\n",
    "        total += i\n",
    "\n",
    "    return total / len(list1)\n",
    "\n",
    "def numpy_mean(array1):\n",
    "    return np.mean(array1)\n",
    "\n",
    "manual_result = manual_mean(list1)\n",
    "numpy_result = numpy_mean(array1)\n",
    "\n",
    "print(f\"Manual Mean Result: {manual_result}\")\n",
    "print(f\"Numpy Mean Result: {numpy_result}\")"
   ]
  },
  {
   "cell_type": "code",
   "execution_count": 11,
   "metadata": {},
   "outputs": [
    {
     "name": "stdout",
     "output_type": "stream",
     "text": [
      "Manual Median Result: 2\n",
      "Numpy Median Result: 2.0\n"
     ]
    }
   ],
   "source": [
    "import math\n",
    "\n",
    "def manual_median(list1):\n",
    "    median = 0\n",
    "    list_len = len(list1)\n",
    "\n",
    "    sorted_list = sorted(list1)\n",
    "\n",
    "    if (list_len == 1):\n",
    "        return sorted_list[0]\n",
    "    \n",
    "    # if (list_len == 2):\n",
    "    #     return (sorted_list[0] + sorted_list[1]) / 2\n",
    "\n",
    "    if list_len % 2 != 0:\n",
    "        median = sorted_list[math.floor(list_len / 2)]\n",
    "    else:\n",
    "        mid_first = math.floor(list_len / 2) - 1\n",
    "        median = (sorted_list[mid_first] + sorted_list[mid_first + 1]) / 2\n",
    "\n",
    "    return median\n",
    "\n",
    "def numpy_median(array1):\n",
    "    return np.median(array1)\n",
    "\n",
    "manual_result = manual_median(list1)\n",
    "numpy_result = numpy_median(array1)\n",
    "\n",
    "print(f\"Manual Median Result: {manual_result}\")\n",
    "print(f\"Numpy Median Result: {numpy_result}\")"
   ]
  },
  {
   "cell_type": "code",
   "execution_count": 12,
   "metadata": {},
   "outputs": [
    {
     "name": "stdout",
     "output_type": "stream",
     "text": [
      "Manual Standard Deviation Result: 0.816496580927726\n",
      "Numpy Standard Deviation Result : 0.816496580927726\n"
     ]
    }
   ],
   "source": [
    "import math\n",
    "\n",
    "def manual_std(list1):\n",
    "    x = sum(list1) / len(list1)\n",
    "    s = 0\n",
    "    \n",
    "    for n in list1:\n",
    "        s += (n - x) ** 2\n",
    "\n",
    "    return math.sqrt(s / len(list1))\n",
    "\n",
    "def numpy_std(array1):\n",
    "    return np.std(array1)\n",
    "\n",
    "manual_result = manual_std(list1)\n",
    "numpy_result = numpy_std(list1)\n",
    "\n",
    "print(f\"Manual Standard Deviation Result: {manual_result}\")\n",
    "print(f\"Numpy Standard Deviation Result : {numpy_result}\")"
   ]
  },
  {
   "cell_type": "code",
   "execution_count": 13,
   "metadata": {},
   "outputs": [
    {
     "name": "stdout",
     "output_type": "stream",
     "text": [
      "Manual Variance Result: 0.6666666666666666\n",
      "Numpy Variance Result: 0.6666666666666666\n"
     ]
    }
   ],
   "source": [
    "import math\n",
    "\n",
    "def manual_variance(list1):\n",
    "    mean = sum(list1) / len(list1)\n",
    "    s = 0\n",
    "\n",
    "    for n in list1:\n",
    "        s += (n - mean) ** 2\n",
    "\n",
    "    return s / len(list1)\n",
    "\n",
    "def numpy_variance(array1):\n",
    "    return np.var(array1)\n",
    "\n",
    "manual_result = manual_variance(list1)\n",
    "numpy_result = numpy_variance(np.array(list1))\n",
    "\n",
    "print(f\"Manual Variance Result: {manual_result}\")\n",
    "print(f\"Numpy Variance Result: {numpy_result}\")"
   ]
  },
  {
   "cell_type": "code",
   "execution_count": 14,
   "metadata": {},
   "outputs": [
    {
     "name": "stdout",
     "output_type": "stream",
     "text": [
      "Manual Minimum Result: 1\n",
      "Numpy Minimum Result: 1\n"
     ]
    }
   ],
   "source": [
    "def manual_min(list1):\n",
    "    min_value = list1[0]\n",
    "\n",
    "    for n in list1:\n",
    "        if n < min_value:\n",
    "            min_value = n\n",
    "\n",
    "    return min_value\n",
    "\n",
    "def numpy_min(array1):\n",
    "    return np.min(array1)\n",
    "\n",
    "manual_result = manual_min(list1)\n",
    "numpy_result = numpy_min(array1)\n",
    "\n",
    "print(f\"Manual Minimum Result: {manual_result}\")\n",
    "print(f\"Numpy Minimum Result: {numpy_result}\")"
   ]
  },
  {
   "cell_type": "code",
   "execution_count": 15,
   "metadata": {},
   "outputs": [
    {
     "name": "stdout",
     "output_type": "stream",
     "text": [
      "Manual Maximum Result: 3\n",
      "Numpy Maximum Result: 3\n"
     ]
    }
   ],
   "source": [
    "def manual_max(list1):\n",
    "    max_value = list1[0]\n",
    "\n",
    "    for n in list1:\n",
    "        if n > max_value:\n",
    "            max_value = n\n",
    "\n",
    "    return max_value\n",
    "\n",
    "def numpy_max(array1):\n",
    "    return np.max(array1)\n",
    "\n",
    "manual_result = manual_max(list1)\n",
    "numpy_result = numpy_max(array1)\n",
    "\n",
    "print(f\"Manual Maximum Result: {manual_result}\")\n",
    "print(f\"Numpy Maximum Result: {numpy_result}\")"
   ]
  },
  {
   "cell_type": "code",
   "execution_count": 16,
   "metadata": {},
   "outputs": [
    {
     "name": "stdout",
     "output_type": "stream",
     "text": [
      "Manual Argmin Result: 0\n",
      "Numpy Argmin Result: 0\n"
     ]
    }
   ],
   "source": [
    "def manual_argmin(list1):\n",
    "    min_index = 0\n",
    "    min_value = list1[0]\n",
    "\n",
    "    for i, n in enumerate(list1):\n",
    "        if n < min_value:\n",
    "            min_index = i\n",
    "\n",
    "    return min_index\n",
    "\n",
    "def numpy_argmin(array1):\n",
    "    return np.argmin(array1)\n",
    "\n",
    "manual_result = manual_argmin(list1)\n",
    "numpy_result = numpy_argmin(array1)\n",
    "\n",
    "print(f\"Manual Argmin Result: {manual_result}\")\n",
    "print(f\"Numpy Argmin Result: {numpy_result}\")"
   ]
  },
  {
   "cell_type": "code",
   "execution_count": 17,
   "metadata": {},
   "outputs": [
    {
     "name": "stdout",
     "output_type": "stream",
     "text": [
      "Manual Argmax Result: 2\n",
      "Numpy Argmax Result : 2\n"
     ]
    }
   ],
   "source": [
    "def manual_argmax(list1):\n",
    "    max_index = 0\n",
    "    max_value = list1[0]\n",
    "\n",
    "    for i, n in enumerate(list1):\n",
    "        if n > max_value:\n",
    "            max_index = i\n",
    "\n",
    "    return max_index\n",
    "\n",
    "def numpy_argmax(array1):\n",
    "    return np.argmax(array1)\n",
    "\n",
    "manual_result = manual_argmax(list1)\n",
    "numpy_result = numpy_argmax(array1)\n",
    "\n",
    "print(f\"Manual Argmax Result: {manual_result}\")\n",
    "print(f\"Numpy Argmax Result : {numpy_result}\")"
   ]
  },
  {
   "cell_type": "code",
   "execution_count": 18,
   "metadata": {},
   "outputs": [
    {
     "name": "stdout",
     "output_type": "stream",
     "text": [
      "Manual Dot Product Result: 32\n",
      "Numpy Dot Product Result: 32\n"
     ]
    }
   ],
   "source": [
    "def manual_dot(list1, list2):\n",
    "    result = 0\n",
    "\n",
    "    # for 1D list\n",
    "    for i, n in enumerate(list1):\n",
    "        result += list1[i] * list2[i]\n",
    "\n",
    "    return result\n",
    "\n",
    "def numpy_dot(array1, array2):\n",
    "    return np.dot(array1, array2)\n",
    "\n",
    "manual_result = manual_dot(list1, list2)\n",
    "numpy_result = numpy_dot(array1, array2)\n",
    "\n",
    "print(f\"Manual Dot Product Result: {manual_result}\")\n",
    "print(f\"Numpy Dot Product Result: {numpy_result}\")"
   ]
  },
  {
   "cell_type": "code",
   "execution_count": 19,
   "metadata": {},
   "outputs": [
    {
     "name": "stdout",
     "output_type": "stream",
     "text": [
      "Manual Cross Product Result: [-3, 6, -3]\n",
      "Numpy Cross Product Result : [-3  6 -3]\n"
     ]
    }
   ],
   "source": [
    "def manual_cross(list1, list2):\n",
    "    result = []\n",
    "\n",
    "    c1 = (list1[1] * list2[2]) - (list1[2] * list2[1])\n",
    "    c2 = (list1[2] * list2[0]) - (list1[0] * list2[2])\n",
    "    c3 = (list1[0] * list2[1]) - (list1[1] * list2[0])\n",
    "\n",
    "    return [c1, c2, c3]\n",
    "\n",
    "def numpy_cross(array1, array2):\n",
    "    return np.cross(array1, array2)\n",
    "\n",
    "list1 = [1, 2, 3]\n",
    "list2 = [4, 5, 6]\n",
    "array1 = np.array(list1)\n",
    "array2 = np.array(list2)\n",
    "\n",
    "manual_result = manual_cross(list1, list2)\n",
    "numpy_result = numpy_cross(array1, array2)\n",
    "\n",
    "print(f\"Manual Cross Product Result: {manual_result}\")\n",
    "print(f\"Numpy Cross Product Result : {numpy_result}\")"
   ]
  },
  {
   "cell_type": "code",
   "execution_count": 20,
   "metadata": {},
   "outputs": [
    {
     "name": "stdout",
     "output_type": "stream",
     "text": [
      "Manual Sort Result: 1\n",
      "Numpy Sort Result: None\n"
     ]
    }
   ],
   "source": [
    "def manual_sort(list1):\n",
    "    sorted_list = 1\n",
    "    return sorted_list\n",
    "\n",
    "def numpy_sort(array1):\n",
    "    return # TO DO\n",
    "\n",
    "list1 = [3, 1, 4, 1, 5, 9]\n",
    "array1 = np.array(list1)\n",
    "\n",
    "manual_result = manual_sort(list1)\n",
    "numpy_result = numpy_sort(array1)\n",
    "\n",
    "print(f\"Manual Sort Result: {manual_result}\")\n",
    "print(f\"Numpy Sort Result: {numpy_result}\")"
   ]
  },
  {
   "cell_type": "code",
   "execution_count": 21,
   "metadata": {},
   "outputs": [
    {
     "name": "stdout",
     "output_type": "stream",
     "text": [
      "Manual Concatenate Result: [3, 1, 4, 1, 5, 9, 4, 5, 6]\n",
      "Numpy Concatenate Result: [3 1 4 1 5 9 4 5 6]\n"
     ]
    }
   ],
   "source": [
    "def manual_concatenate(list1, list2):\n",
    "    result = []\n",
    "    for n in list1:\n",
    "        result.append(n)\n",
    "\n",
    "    for n in list2:\n",
    "        result.append(n)\n",
    "\n",
    "    return result\n",
    "\n",
    "def numpy_concatenate(array1, array2):\n",
    "    return np.concatenate((array1, array2))\n",
    "\n",
    "manual_result = manual_concatenate(list1, list2)\n",
    "numpy_result = numpy_concatenate(array1, array2)\n",
    "\n",
    "print(f\"Manual Concatenate Result: {manual_result}\")\n",
    "print(f\"Numpy Concatenate Result: {numpy_result}\")"
   ]
  },
  {
   "cell_type": "markdown",
   "metadata": {},
   "source": [
    "## Part 2\n",
    "\n",
    "You are part of a data analytics team at a retail company, and you have been given the task of analyzing sales data to identify trends and patterns. However, before you can leverage powerful libraries like Numpy, your team wants to ensure you understand the underlying operations by implementing basic data analysis functions from scratch. You can use your custom implementations of Numpy functions to analyze a middle-sized dataset if you wish."
   ]
  },
  {
   "cell_type": "code",
   "execution_count": 33,
   "metadata": {},
   "outputs": [],
   "source": [
    "sales_data = [\n",
    "    {\"product\": \"A\", \"region\": \"North\", \"units_sold\": 150, \"unit_price\": 10.0},\n",
    "    {\"product\": \"B\", \"region\": \"South\", \"units_sold\": 200, \"unit_price\": 20.0},\n",
    "    {\"product\": \"C\", \"region\": \"East\", \"units_sold\": 300, \"unit_price\": 15.0},\n",
    "    {\"product\": \"A\", \"region\": \"West\", \"units_sold\": 130, \"unit_price\": 10.0},\n",
    "    {\"product\": \"B\", \"region\": \"North\", \"units_sold\": 120, \"unit_price\": 20.0},\n",
    "    {\"product\": \"C\", \"region\": \"South\", \"units_sold\": 250, \"unit_price\": 15.0},\n",
    "    {\"product\": \"A\", \"region\": \"East\", \"units_sold\": 170, \"unit_price\": 10.0},\n",
    "    {\"product\": \"B\", \"region\": \"West\", \"units_sold\": 180, \"unit_price\": 20.0},\n",
    "    {\"product\": \"C\", \"region\": \"North\", \"units_sold\": 310, \"unit_price\": 15.0},\n",
    "    {\"product\": \"A\", \"region\": \"South\", \"units_sold\": 160, \"unit_price\": 10.0},\n",
    "    {\"product\": \"B\", \"region\": \"East\", \"units_sold\": 190, \"unit_price\": 20.0},\n",
    "    {\"product\": \"C\", \"region\": \"West\", \"units_sold\": 280, \"unit_price\": 15.0},\n",
    "]"
   ]
  },
  {
   "cell_type": "markdown",
   "metadata": {},
   "source": [
    "### Task 1\n",
    "\n",
    "Calculate Total Revenue per Product:\n",
    "\n",
    "Implement a function to calculate the total revenue for each product."
   ]
  },
  {
   "cell_type": "code",
   "execution_count": 28,
   "metadata": {},
   "outputs": [
    {
     "name": "stdout",
     "output_type": "stream",
     "text": [
      "Total Revenue (Manual): {'A': 570.0, 'B': 610.0, 'C': 1080.0}\n"
     ]
    }
   ],
   "source": [
    "def manual_total_revenue(sales_data):\n",
    "    revenue_dict = {}\n",
    "    \n",
    "    for info in sales_data:\n",
    "        last_revenue = revenue_dict[info['product']] if revenue_dict.get(info['product']) else 0\n",
    "        revenue_dict[info['product']] = last_revenue + (info['units_sold'] - info['unit_price'])\n",
    "    return revenue_dict\n",
    "\n",
    "total_revenue_manual = manual_total_revenue(sales_data)\n",
    "print(f\"Total Revenue (Manual): {total_revenue_manual}\")"
   ]
  },
  {
   "cell_type": "markdown",
   "metadata": {},
   "source": [
    "### Task 2\n",
    "\n",
    "Find the Average Units Sold per Region:\n",
    "\n",
    "Implement a function to compute the average units sold in each region."
   ]
  },
  {
   "cell_type": "code",
   "execution_count": 29,
   "metadata": {},
   "outputs": [
    {
     "name": "stdout",
     "output_type": "stream",
     "text": [
      "Average Units Sold per Region (Manual): {'North': {'total': 580, 'count': 3, 'avg': 193.33333333333334}, 'South': {'total': 610, 'count': 3, 'avg': 203.33333333333334}, 'East': {'total': 660, 'count': 3, 'avg': 220.0}, 'West': {'total': 590, 'count': 3, 'avg': 196.66666666666666}}\n"
     ]
    }
   ],
   "source": [
    "def manual_average_units_sold(sales_data):\n",
    "    region_dict = {}\n",
    "    \n",
    "\n",
    "    for info in sales_data:\n",
    "        \n",
    "        if region_dict.get(info['region']):\n",
    "            total = region_dict[info['region']]['total'] + info['units_sold']\n",
    "            count = region_dict[info['region']]['count'] + 1\n",
    "            region_dict[info['region']].update({'total': total, 'count': count})\n",
    "        else:\n",
    "            region_dict[info['region']] = {'total': info['units_sold'], 'count': 1}\n",
    "\n",
    "    for region in region_dict:\n",
    "        avg = region_dict[region]['total'] / region_dict[region]['count']\n",
    "        region_dict[region].update({'avg': avg})\n",
    "\n",
    "    return region_dict\n",
    "\n",
    "average_units_sold_manual = manual_average_units_sold(sales_data)\n",
    "print(f\"Average Units Sold per Region (Manual): {average_units_sold_manual}\")"
   ]
  },
  {
   "cell_type": "markdown",
   "metadata": {},
   "source": [
    "### Task 3\n",
    "\n",
    "Identify the Product with the Highest Sales:\n",
    "\n",
    "Implement a function to determine which product has the highest total units sold."
   ]
  },
  {
   "cell_type": "code",
   "execution_count": 30,
   "metadata": {},
   "outputs": [
    {
     "name": "stdout",
     "output_type": "stream",
     "text": [
      "Product with Highest Sales (Manual): {'product': 'C', 'region': 'North', 'units_sold': 310, 'unit_price': 15.0}\n"
     ]
    }
   ],
   "source": [
    "def manual_highest_sales_product(sales_data):\n",
    "    highest_sales_product = sales_data[0]\n",
    "    for info in sales_data:\n",
    "        if info['units_sold'] > highest_sales_product['units_sold']:\n",
    "            highest_sales_product = info\n",
    "\n",
    "    return highest_sales_product\n",
    "\n",
    "highest_sales_product_manual = manual_highest_sales_product(sales_data)\n",
    "print(f\"Product with Highest Sales (Manual): {highest_sales_product_manual}\")"
   ]
  },
  {
   "cell_type": "markdown",
   "metadata": {},
   "source": [
    "### Task 4\n",
    "\n",
    "Calculate the Standard Deviation of Units Sold per Product:\n",
    "\n",
    "Implement a function to compute the standard deviation of units sold for each product.\n"
   ]
  },
  {
   "cell_type": "code",
   "execution_count": 31,
   "metadata": {},
   "outputs": [
    {
     "name": "stdout",
     "output_type": "stream",
     "text": [
      "Standard Deviation of Units Sold per Product (Manual): {'A': {'units_sold': [150, 130, 170, 160], 'std': 14.79019945774904}, 'B': {'units_sold': [200, 120, 180, 190], 'std': 31.12474899497183}, 'C': {'units_sold': [300, 250, 310, 280], 'std': 22.9128784747792}}\n"
     ]
    }
   ],
   "source": [
    "def manual_std(list1):\n",
    "    x = sum(list1) / len(list1)\n",
    "    s = 0\n",
    "    \n",
    "    for n in list1:\n",
    "        s += (n - x) ** 2\n",
    "\n",
    "    return math.sqrt(s / len(list1))\n",
    "\n",
    "def get_products_sold_prices(sales_data):\n",
    "    products_sold_price = {}\n",
    "    for product in sales_data:\n",
    "        if products_sold_price.get(product['product']):\n",
    "            products_sold_price[product['product']]['units_sold'].append(product['units_sold'])\n",
    "        else:\n",
    "            products_sold_price[product['product']] = {'units_sold': [product['units_sold']], 'std': 0}\n",
    "    return products_sold_price\n",
    "\n",
    "def manual_std_units_sold(sales_data):    \n",
    "    std_dict = {}\n",
    "    products = get_products_sold_prices(sales_data)\n",
    "\n",
    "    for product in products:\n",
    "        products[product]['std'] = manual_std(products[product]['units_sold'])\n",
    "    \n",
    "    return products\n",
    "\n",
    "std_units_sold_manual = manual_std_units_sold(sales_data)\n",
    "print(f\"Standard Deviation of Units Sold per Product (Manual): {std_units_sold_manual}\")"
   ]
  },
  {
   "cell_type": "markdown",
   "metadata": {},
   "source": [
    "### Task 5\n",
    "\n",
    "Sort the Products by Total Revenue:\n",
    "\n",
    "Implement a function to sort the products based on their total revenue in descending order."
   ]
  },
  {
   "cell_type": "code",
   "execution_count": 40,
   "metadata": {},
   "outputs": [
    {
     "name": "stdout",
     "output_type": "stream",
     "text": [
      "Products Sorted by Total Revenue (Manual): {'C': 1080.0, 'B': 610.0, 'A': 570.0}\n"
     ]
    }
   ],
   "source": [
    "def get_revenue_per_products(sales_data):\n",
    "    revenue_dict = {}\n",
    "    for info in sales_data:\n",
    "        last_revenue = revenue_dict[info['product']] if revenue_dict.get(info['product']) else 0\n",
    "        revenue_dict[info['product']] = last_revenue + (info['units_sold'] - info['unit_price'])\n",
    "    return revenue_dict\n",
    "\n",
    "def manual_sort_products_by_revenue(sales_data):\n",
    "    sorted_products = {}\n",
    "    products_revenue = get_revenue_per_products(sales_data)\n",
    "    sorted_products = {k: v for k, v in sorted(products_revenue.items(), key=lambda item: item[1], reverse=True)}\n",
    "    return sorted_products\n",
    "\n",
    "sorted_products_manual = manual_sort_products_by_revenue(sales_data)\n",
    "print(f\"Products Sorted by Total Revenue (Manual): {sorted_products_manual}\")"
   ]
  }
 ],
 "metadata": {
  "kernelspec": {
   "display_name": ".venv",
   "language": "python",
   "name": "python3"
  },
  "language_info": {
   "codemirror_mode": {
    "name": "ipython",
    "version": 3
   },
   "file_extension": ".py",
   "mimetype": "text/x-python",
   "name": "python",
   "nbconvert_exporter": "python",
   "pygments_lexer": "ipython3",
   "version": "3.10.12"
  },
  "vscode": {
   "interpreter": {
    "hash": "250677bdf74a563a7fc232533585e6c03b8ba364536c42e6b61ed297cc9737b1"
   }
  }
 },
 "nbformat": 4,
 "nbformat_minor": 2
}
